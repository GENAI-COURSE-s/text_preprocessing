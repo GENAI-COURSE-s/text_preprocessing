{
  "cells": [
    {
      "cell_type": "markdown",
      "metadata": {
        "id": "view-in-github",
        "colab_type": "text"
      },
      "source": [
        "<a href=\"https://colab.research.google.com/github/GENAI-COURSE-s/text_preprocessing/blob/main/text_preprocessing_(1).ipynb\" target=\"_parent\"><img src=\"https://colab.research.google.com/assets/colab-badge.svg\" alt=\"Open In Colab\"/></a>"
      ]
    },
    {
      "cell_type": "code",
      "execution_count": null,
      "metadata": {
        "id": "MfEpgP77-Ssx",
        "outputId": "f46a28b1-3bbc-4fea-a863-34063d1c4f08"
      },
      "outputs": [
        {
          "name": "stderr",
          "output_type": "stream",
          "text": [
            "/tmp/ipykernel_629/4080736814.py:1: DeprecationWarning: \n",
            "Pyarrow will become a required dependency of pandas in the next major release of pandas (pandas 3.0),\n",
            "(to allow more performant data types, such as the Arrow string type, and better interoperability with other libraries)\n",
            "but was not found to be installed on your system.\n",
            "If this would cause problems for you,\n",
            "please provide us feedback at https://github.com/pandas-dev/pandas/issues/54466\n",
            "        \n",
            "  import pandas as pd\n"
          ]
        }
      ],
      "source": [
        "import pandas as pd"
      ]
    },
    {
      "cell_type": "code",
      "execution_count": null,
      "metadata": {
        "id": "RsmDGSFR-Ss0"
      },
      "outputs": [],
      "source": [
        "data=pd.read_csv(\"https://raw.githubusercontent.com/Ankit152/IMDB-sentiment-analysis/master/IMDB-Dataset.csv\")"
      ]
    },
    {
      "cell_type": "code",
      "execution_count": null,
      "metadata": {
        "id": "ckV4ENiV-Ss1",
        "outputId": "399ca3e7-f356-4af7-e962-f73f9398bc12"
      },
      "outputs": [
        {
          "data": {
            "text/html": [
              "<div>\n",
              "<style scoped>\n",
              "    .dataframe tbody tr th:only-of-type {\n",
              "        vertical-align: middle;\n",
              "    }\n",
              "\n",
              "    .dataframe tbody tr th {\n",
              "        vertical-align: top;\n",
              "    }\n",
              "\n",
              "    .dataframe thead th {\n",
              "        text-align: right;\n",
              "    }\n",
              "</style>\n",
              "<table border=\"1\" class=\"dataframe\">\n",
              "  <thead>\n",
              "    <tr style=\"text-align: right;\">\n",
              "      <th></th>\n",
              "      <th>review</th>\n",
              "      <th>sentiment</th>\n",
              "    </tr>\n",
              "  </thead>\n",
              "  <tbody>\n",
              "    <tr>\n",
              "      <th>0</th>\n",
              "      <td>One of the other reviewers has mentioned that ...</td>\n",
              "      <td>positive</td>\n",
              "    </tr>\n",
              "    <tr>\n",
              "      <th>1</th>\n",
              "      <td>A wonderful little production. &lt;br /&gt;&lt;br /&gt;The...</td>\n",
              "      <td>positive</td>\n",
              "    </tr>\n",
              "    <tr>\n",
              "      <th>2</th>\n",
              "      <td>I thought this was a wonderful way to spend ti...</td>\n",
              "      <td>positive</td>\n",
              "    </tr>\n",
              "    <tr>\n",
              "      <th>3</th>\n",
              "      <td>Basically there's a family where a little boy ...</td>\n",
              "      <td>negative</td>\n",
              "    </tr>\n",
              "    <tr>\n",
              "      <th>4</th>\n",
              "      <td>Petter Mattei's \"Love in the Time of Money\" is...</td>\n",
              "      <td>positive</td>\n",
              "    </tr>\n",
              "  </tbody>\n",
              "</table>\n",
              "</div>"
            ],
            "text/plain": [
              "                                              review sentiment\n",
              "0  One of the other reviewers has mentioned that ...  positive\n",
              "1  A wonderful little production. <br /><br />The...  positive\n",
              "2  I thought this was a wonderful way to spend ti...  positive\n",
              "3  Basically there's a family where a little boy ...  negative\n",
              "4  Petter Mattei's \"Love in the Time of Money\" is...  positive"
            ]
          },
          "execution_count": 4,
          "metadata": {},
          "output_type": "execute_result"
        }
      ],
      "source": [
        "data.head()"
      ]
    },
    {
      "cell_type": "code",
      "execution_count": null,
      "metadata": {
        "id": "JPEwjBNM-Ss2",
        "outputId": "b5e4e4f2-0e27-407a-c8a5-868fa821dfae"
      },
      "outputs": [
        {
          "data": {
            "text/html": [
              "<div>\n",
              "<style scoped>\n",
              "    .dataframe tbody tr th:only-of-type {\n",
              "        vertical-align: middle;\n",
              "    }\n",
              "\n",
              "    .dataframe tbody tr th {\n",
              "        vertical-align: top;\n",
              "    }\n",
              "\n",
              "    .dataframe thead th {\n",
              "        text-align: right;\n",
              "    }\n",
              "</style>\n",
              "<table border=\"1\" class=\"dataframe\">\n",
              "  <thead>\n",
              "    <tr style=\"text-align: right;\">\n",
              "      <th></th>\n",
              "      <th>review</th>\n",
              "      <th>sentiment</th>\n",
              "    </tr>\n",
              "  </thead>\n",
              "  <tbody>\n",
              "    <tr>\n",
              "      <th>49995</th>\n",
              "      <td>I thought this movie did a down right good job...</td>\n",
              "      <td>positive</td>\n",
              "    </tr>\n",
              "    <tr>\n",
              "      <th>49996</th>\n",
              "      <td>Bad plot, bad dialogue, bad acting, idiotic di...</td>\n",
              "      <td>negative</td>\n",
              "    </tr>\n",
              "    <tr>\n",
              "      <th>49997</th>\n",
              "      <td>I am a Catholic taught in parochial elementary...</td>\n",
              "      <td>negative</td>\n",
              "    </tr>\n",
              "    <tr>\n",
              "      <th>49998</th>\n",
              "      <td>I'm going to have to disagree with the previou...</td>\n",
              "      <td>negative</td>\n",
              "    </tr>\n",
              "    <tr>\n",
              "      <th>49999</th>\n",
              "      <td>No one expects the Star Trek movies to be high...</td>\n",
              "      <td>negative</td>\n",
              "    </tr>\n",
              "  </tbody>\n",
              "</table>\n",
              "</div>"
            ],
            "text/plain": [
              "                                                  review sentiment\n",
              "49995  I thought this movie did a down right good job...  positive\n",
              "49996  Bad plot, bad dialogue, bad acting, idiotic di...  negative\n",
              "49997  I am a Catholic taught in parochial elementary...  negative\n",
              "49998  I'm going to have to disagree with the previou...  negative\n",
              "49999  No one expects the Star Trek movies to be high...  negative"
            ]
          },
          "execution_count": 5,
          "metadata": {},
          "output_type": "execute_result"
        }
      ],
      "source": [
        "data.tail()"
      ]
    },
    {
      "cell_type": "code",
      "execution_count": null,
      "metadata": {
        "id": "NhFWCKWE-Ss3",
        "outputId": "a735962e-996c-4664-dab9-efad5ca868bc"
      },
      "outputs": [
        {
          "data": {
            "text/html": [
              "<div>\n",
              "<style scoped>\n",
              "    .dataframe tbody tr th:only-of-type {\n",
              "        vertical-align: middle;\n",
              "    }\n",
              "\n",
              "    .dataframe tbody tr th {\n",
              "        vertical-align: top;\n",
              "    }\n",
              "\n",
              "    .dataframe thead th {\n",
              "        text-align: right;\n",
              "    }\n",
              "</style>\n",
              "<table border=\"1\" class=\"dataframe\">\n",
              "  <thead>\n",
              "    <tr style=\"text-align: right;\">\n",
              "      <th></th>\n",
              "      <th>review</th>\n",
              "      <th>sentiment</th>\n",
              "    </tr>\n",
              "  </thead>\n",
              "  <tbody>\n",
              "    <tr>\n",
              "      <th>32116</th>\n",
              "      <td>I think this movie had really bad production v...</td>\n",
              "      <td>negative</td>\n",
              "    </tr>\n",
              "    <tr>\n",
              "      <th>36939</th>\n",
              "      <td>A pretty average scifi film. The plot was more...</td>\n",
              "      <td>negative</td>\n",
              "    </tr>\n",
              "    <tr>\n",
              "      <th>16949</th>\n",
              "      <td>I tried to like this movie. I love Kevin Space...</td>\n",
              "      <td>negative</td>\n",
              "    </tr>\n",
              "    <tr>\n",
              "      <th>47515</th>\n",
              "      <td>WARNING: PLOT SPOILER&lt;br /&gt;&lt;br /&gt;The always-ab...</td>\n",
              "      <td>positive</td>\n",
              "    </tr>\n",
              "    <tr>\n",
              "      <th>6932</th>\n",
              "      <td>This version of \"The Lost Horizon\" is actually...</td>\n",
              "      <td>positive</td>\n",
              "    </tr>\n",
              "  </tbody>\n",
              "</table>\n",
              "</div>"
            ],
            "text/plain": [
              "                                                  review sentiment\n",
              "32116  I think this movie had really bad production v...  negative\n",
              "36939  A pretty average scifi film. The plot was more...  negative\n",
              "16949  I tried to like this movie. I love Kevin Space...  negative\n",
              "47515  WARNING: PLOT SPOILER<br /><br />The always-ab...  positive\n",
              "6932   This version of \"The Lost Horizon\" is actually...  positive"
            ]
          },
          "execution_count": 6,
          "metadata": {},
          "output_type": "execute_result"
        }
      ],
      "source": [
        "data.sample(5)"
      ]
    },
    {
      "cell_type": "code",
      "execution_count": null,
      "metadata": {
        "id": "YMwvtfVe-Ss4",
        "outputId": "8187c783-48c1-4013-bb58-cbbe72b26f9c"
      },
      "outputs": [
        {
          "data": {
            "text/plain": [
              "\"One of the other reviewers has mentioned that after watching just 1 Oz episode you'll be hooked. They are right, as this is exactly what happened with me.<br /><br />The first thing that struck me about Oz was its brutality and unflinching scenes of violence, which set in right from the word GO. Trust me, this is not a show for the faint hearted or timid. This show pulls no punches with regards to drugs, sex or violence. Its is hardcore, in the classic use of the word.<br /><br />It is called OZ as that is the nickname given to the Oswald Maximum Security State Penitentary. It focuses mainly on Emerald City, an experimental section of the prison where all the cells have glass fronts and face inwards, so privacy is not high on the agenda. Em City is home to many..Aryans, Muslims, gangstas, Latinos, Christians, Italians, Irish and more....so scuffles, death stares, dodgy dealings and shady agreements are never far away.<br /><br />I would say the main appeal of the show is due to the fact that it goes where other shows wouldn't dare. Forget pretty pictures painted for mainstream audiences, forget charm, forget romance...OZ doesn't mess around. The first episode I ever saw struck me as so nasty it was surreal, I couldn't say I was ready for it, but as I watched more, I developed a taste for Oz, and got accustomed to the high levels of graphic violence. Not just violence, but injustice (crooked guards who'll be sold out for a nickel, inmates who'll kill on order and get away with it, well mannered, middle class inmates being turned into prison bitches due to their lack of street skills or prison experience) Watching Oz, you may become comfortable with what is uncomfortable viewing....thats if you can get in touch with your darker side.\""
            ]
          },
          "execution_count": 7,
          "metadata": {},
          "output_type": "execute_result"
        }
      ],
      "source": [
        "data[\"review\"][0]"
      ]
    },
    {
      "cell_type": "code",
      "execution_count": null,
      "metadata": {
        "id": "2-SINFGT-StB",
        "outputId": "18e9326e-2a15-4758-cc90-83cd74de94e8"
      },
      "outputs": [
        {
          "data": {
            "text/plain": [
              "\"Basically there's a family where a little boy (Jake) thinks there's a zombie in his closet & his parents are fighting all the time.<br /><br />This movie is slower than a soap opera... and suddenly, Jake decides to become Rambo and kill the zombie.<br /><br />OK, first of all when you're going to make a film you must Decide if its a thriller or a drama! As a drama the movie is watchable. Parents are divorcing & arguing like in real life. And then we have Jake with his closet which totally ruins all the film! I expected to see a BOOGEYMAN similar movie, and instead i watched a drama with some meaningless thriller spots.<br /><br />3 out of 10 just for the well playing parents & descent dialogs. As for the shots with Jake: just ignore them.\""
            ]
          },
          "execution_count": 8,
          "metadata": {},
          "output_type": "execute_result"
        }
      ],
      "source": [
        "data[\"review\"][3]"
      ]
    },
    {
      "cell_type": "markdown",
      "metadata": {
        "id": "eSpGB_ds-StC"
      },
      "source": [
        "1. lowercasing"
      ]
    },
    {
      "cell_type": "code",
      "execution_count": null,
      "metadata": {
        "id": "8fORWVUR-StC",
        "outputId": "9a2bd3f6-e4b2-4b48-8bb0-ca5803005b7a"
      },
      "outputs": [
        {
          "data": {
            "text/plain": [
              "\"basically there's a family where a little boy (jake) thinks there's a zombie in his closet & his parents are fighting all the time.<br /><br />this movie is slower than a soap opera... and suddenly, jake decides to become rambo and kill the zombie.<br /><br />ok, first of all when you're going to make a film you must decide if its a thriller or a drama! as a drama the movie is watchable. parents are divorcing & arguing like in real life. and then we have jake with his closet which totally ruins all the film! i expected to see a boogeyman similar movie, and instead i watched a drama with some meaningless thriller spots.<br /><br />3 out of 10 just for the well playing parents & descent dialogs. as for the shots with jake: just ignore them.\""
            ]
          },
          "execution_count": 9,
          "metadata": {},
          "output_type": "execute_result"
        }
      ],
      "source": [
        "data[\"review\"][3].lower()"
      ]
    },
    {
      "cell_type": "code",
      "execution_count": null,
      "metadata": {
        "id": "hwYPsZu9-StD",
        "outputId": "a5465389-6a86-4436-871f-503db55fc9e2"
      },
      "outputs": [
        {
          "data": {
            "text/plain": [
              "(50000, 2)"
            ]
          },
          "execution_count": 10,
          "metadata": {},
          "output_type": "execute_result"
        }
      ],
      "source": [
        "data.shape"
      ]
    },
    {
      "cell_type": "code",
      "execution_count": null,
      "metadata": {
        "id": "j4jT3w2m-StD"
      },
      "outputs": [],
      "source": [
        "data[\"review\"]=data[\"review\"].str.lower()"
      ]
    },
    {
      "cell_type": "code",
      "execution_count": null,
      "metadata": {
        "id": "2Y4lCVWD-StE"
      },
      "outputs": [],
      "source": [
        "import re"
      ]
    },
    {
      "cell_type": "markdown",
      "metadata": {
        "id": "z75LCxEd-StE"
      },
      "source": [
        "Regular expressions contain a series of characters that define a pattern of text to be matched"
      ]
    },
    {
      "cell_type": "code",
      "execution_count": null,
      "metadata": {
        "id": "C1bolTzw-StE"
      },
      "outputs": [],
      "source": [
        "def remove_html_tags(text):\n",
        "    pattern=re.compile('<.*?>')\n",
        "    return pattern.sub(\"\",text)"
      ]
    },
    {
      "cell_type": "code",
      "execution_count": null,
      "metadata": {
        "id": "a4tZ8284-StE"
      },
      "outputs": [],
      "source": [
        "text=\"\"\"<!DOCTYPE html><html lang=\"en\"><head><meta charset=\"UTF-8\"><meta http-equiv=\"X-UA-Compatible\" content=\"IE=edge\"><meta name=\"viewport\" content=\"width=device-width, initial-scale=1.0\"><title>Welcome to My Website</title><style>body{font-family:'Arial',sans-serif;background-color:#f0f0f0;color:#333;margin:20px}h1{color:#007bff}p{line-height:1.5}</style></head><body><header><h1>Welcome to My Awesome Website!</h1></header><main><p>This is a sample HTML document created for demonstration purposes.</p><p>Feel free to explore and enjoy the content on this website.</p></main><footer><p>&copy; 2024 My Website. All rights reserved.</p></footer></body></html>\"\"\"\n"
      ]
    },
    {
      "cell_type": "code",
      "execution_count": null,
      "metadata": {
        "id": "pEAaenW2-StF",
        "outputId": "ae7112db-0b80-4d68-e963-9ae708c93907"
      },
      "outputs": [
        {
          "data": {
            "text/plain": [
              "'<!DOCTYPE html><html lang=\"en\"><head><meta charset=\"UTF-8\"><meta http-equiv=\"X-UA-Compatible\" content=\"IE=edge\"><meta name=\"viewport\" content=\"width=device-width, initial-scale=1.0\"><title>Welcome to My Website</title><style>body{font-family:\\'Arial\\',sans-serif;background-color:#f0f0f0;color:#333;margin:20px}h1{color:#007bff}p{line-height:1.5}</style></head><body><header><h1>Welcome to My Awesome Website!</h1></header><main><p>This is a sample HTML document created for demonstration purposes.</p><p>Feel free to explore and enjoy the content on this website.</p></main><footer><p>&copy; 2024 My Website. All rights reserved.</p></footer></body></html>'"
            ]
          },
          "execution_count": 15,
          "metadata": {},
          "output_type": "execute_result"
        }
      ],
      "source": [
        "text"
      ]
    },
    {
      "cell_type": "code",
      "execution_count": null,
      "metadata": {
        "id": "cuuVPPzG-StG",
        "outputId": "0e9cdb69-202c-462b-e83f-6652a87e912c"
      },
      "outputs": [
        {
          "data": {
            "text/plain": [
              "\"Welcome to My Websitebody{font-family:'Arial',sans-serif;background-color:#f0f0f0;color:#333;margin:20px}h1{color:#007bff}p{line-height:1.5}Welcome to My Awesome Website!This is a sample HTML document created for demonstration purposes.Feel free to explore and enjoy the content on this website.&copy; 2024 My Website. All rights reserved.\""
            ]
          },
          "execution_count": 16,
          "metadata": {},
          "output_type": "execute_result"
        }
      ],
      "source": [
        "remove_html_tags(text)"
      ]
    },
    {
      "cell_type": "code",
      "execution_count": null,
      "metadata": {
        "id": "IEyyf32x-StH"
      },
      "outputs": [],
      "source": [
        "text=data[\"review\"][1]"
      ]
    },
    {
      "cell_type": "code",
      "execution_count": null,
      "metadata": {
        "id": "Y-NWswPC-StH",
        "outputId": "a26fc5c6-462f-473d-d799-27fa8044a2d3"
      },
      "outputs": [
        {
          "data": {
            "text/plain": [
              "'A wonderful little production. <br /><br />The filming technique is very unassuming- very old-time-BBC fashion and gives a comforting, and sometimes discomforting, sense of realism to the entire piece. <br /><br />The actors are extremely well chosen- Michael Sheen not only \"has got all the polari\" but he has all the voices down pat too! You can truly see the seamless editing guided by the references to Williams\\' diary entries, not only is it well worth the watching but it is a terrificly written and performed piece. A masterful production about one of the great master\\'s of comedy and his life. <br /><br />The realism really comes home with the little things: the fantasy of the guard which, rather than use the traditional \\'dream\\' techniques remains solid then disappears. It plays on our knowledge and our senses, particularly with the scenes concerning Orton and Halliwell and the sets (particularly of their flat with Halliwell\\'s murals decorating every surface) are terribly well done.'"
            ]
          },
          "execution_count": 31,
          "metadata": {},
          "output_type": "execute_result"
        }
      ],
      "source": [
        "text"
      ]
    },
    {
      "cell_type": "code",
      "execution_count": null,
      "metadata": {
        "id": "mNR_nyKN-StI",
        "outputId": "c13a5be6-6aba-46de-d233-05d09d8c3df1"
      },
      "outputs": [
        {
          "data": {
            "text/plain": [
              "'A wonderful little production. The filming technique is very unassuming- very old-time-BBC fashion and gives a comforting, and sometimes discomforting, sense of realism to the entire piece. The actors are extremely well chosen- Michael Sheen not only \"has got all the polari\" but he has all the voices down pat too! You can truly see the seamless editing guided by the references to Williams\\' diary entries, not only is it well worth the watching but it is a terrificly written and performed piece. A masterful production about one of the great master\\'s of comedy and his life. The realism really comes home with the little things: the fantasy of the guard which, rather than use the traditional \\'dream\\' techniques remains solid then disappears. It plays on our knowledge and our senses, particularly with the scenes concerning Orton and Halliwell and the sets (particularly of their flat with Halliwell\\'s murals decorating every surface) are terribly well done.'"
            ]
          },
          "execution_count": 30,
          "metadata": {},
          "output_type": "execute_result"
        }
      ],
      "source": [
        "remove_html_tags(text)"
      ]
    },
    {
      "cell_type": "code",
      "execution_count": null,
      "metadata": {
        "id": "cr6b7Ig2-StI"
      },
      "outputs": [],
      "source": [
        "data[\"review\"]=data[\"review\"].apply(remove_html_tags)"
      ]
    },
    {
      "cell_type": "code",
      "execution_count": null,
      "metadata": {
        "id": "bKhidtAp-StI",
        "outputId": "06832aa6-711a-4155-b760-d3a1d005892b"
      },
      "outputs": [
        {
          "data": {
            "text/plain": [
              "0        One of the other reviewers has mentioned that ...\n",
              "1        A wonderful little production. The filming tec...\n",
              "2        I thought this was a wonderful way to spend ti...\n",
              "3        Basically there's a family where a little boy ...\n",
              "4        Petter Mattei's \"Love in the Time of Money\" is...\n",
              "                               ...                        \n",
              "49995    I thought this movie did a down right good job...\n",
              "49996    Bad plot, bad dialogue, bad acting, idiotic di...\n",
              "49997    I am a Catholic taught in parochial elementary...\n",
              "49998    I'm going to have to disagree with the previou...\n",
              "49999    No one expects the Star Trek movies to be high...\n",
              "Name: review, Length: 50000, dtype: object"
            ]
          },
          "execution_count": 35,
          "metadata": {},
          "output_type": "execute_result"
        }
      ],
      "source": [
        "data[\"review\"]"
      ]
    },
    {
      "cell_type": "code",
      "execution_count": null,
      "metadata": {
        "id": "c0LGBehO-StI",
        "outputId": "46e04c28-4c13-4990-d516-232cd0f173e8"
      },
      "outputs": [
        {
          "data": {
            "text/plain": [
              "0        one of the other reviewers has mentioned that ...\n",
              "1        a wonderful little production. the filming tec...\n",
              "2        i thought this was a wonderful way to spend ti...\n",
              "3        basically there's a family where a little boy ...\n",
              "4        petter mattei's \"love in the time of money\" is...\n",
              "                               ...                        \n",
              "49995    i thought this movie did a down right good job...\n",
              "49996    bad plot, bad dialogue, bad acting, idiotic di...\n",
              "49997    i am a catholic taught in parochial elementary...\n",
              "49998    i'm going to have to disagree with the previou...\n",
              "49999    no one expects the star trek movies to be high...\n",
              "Name: review, Length: 50000, dtype: object"
            ]
          },
          "execution_count": 37,
          "metadata": {},
          "output_type": "execute_result"
        }
      ],
      "source": [
        "data[\"review\"]"
      ]
    },
    {
      "cell_type": "code",
      "execution_count": null,
      "metadata": {
        "id": "McWLRzBu-StJ"
      },
      "outputs": [],
      "source": [
        "def remove_url(text):\n",
        "    pattern=re.compile(r'https?://\\S+|www\\.\\S+')\n",
        "    return pattern.sub(\"\",text)"
      ]
    },
    {
      "cell_type": "code",
      "execution_count": null,
      "metadata": {
        "id": "FSSXOi7n-StK",
        "outputId": "d1847cc1-a38e-4613-d0f0-f5011063b8ae"
      },
      "outputs": [
        {
          "data": {
            "text/plain": [
              "'checkout to my youtube channel '"
            ]
          },
          "execution_count": 20,
          "metadata": {},
          "output_type": "execute_result"
        }
      ],
      "source": [
        "remove_url(text1)"
      ]
    },
    {
      "cell_type": "code",
      "execution_count": null,
      "metadata": {
        "id": "txkb4ZcB-StN"
      },
      "outputs": [],
      "source": [
        "text1=\"checkout to my youtube channel https://www.youtube.com/watch?v=V9tJCQoBakA&t=225s\"\n",
        "text2=\"please try to google here www.google.com\"\n",
        "text3=\"here is my url which is not secure http://dummy.com\""
      ]
    },
    {
      "cell_type": "code",
      "execution_count": null,
      "metadata": {
        "id": "CH6z4WLA-StN"
      },
      "outputs": [],
      "source": [
        "import string"
      ]
    },
    {
      "cell_type": "code",
      "execution_count": null,
      "metadata": {
        "id": "0Il7Tum8-StO",
        "outputId": "4618ac09-b488-4a08-b0ab-c1eb7c8993f4"
      },
      "outputs": [
        {
          "data": {
            "text/plain": [
              "'!\"#$%&\\'()*+,-./:;<=>?@[\\\\]^_`{|}~'"
            ]
          },
          "execution_count": 23,
          "metadata": {},
          "output_type": "execute_result"
        }
      ],
      "source": [
        "string.punctuation"
      ]
    },
    {
      "cell_type": "code",
      "execution_count": null,
      "metadata": {
        "id": "qNCmDih4-StO"
      },
      "outputs": [],
      "source": [
        "exclude=string.punctuation"
      ]
    },
    {
      "cell_type": "code",
      "execution_count": null,
      "metadata": {
        "id": "xxcRRHMC-StO",
        "outputId": "64a3267b-1b39-4d30-fb52-02905946f10d"
      },
      "outputs": [
        {
          "name": "stdout",
          "output_type": "stream",
          "text": [
            "!\n",
            "\"\n",
            "#\n",
            "$\n",
            "%\n",
            "&\n",
            "'\n",
            "(\n",
            ")\n",
            "*\n",
            "+\n",
            ",\n",
            "-\n",
            ".\n",
            "/\n",
            ":\n",
            ";\n",
            "<\n",
            "=\n",
            ">\n",
            "?\n",
            "@\n",
            "[\n",
            "\\\n",
            "]\n",
            "^\n",
            "_\n",
            "`\n",
            "{\n",
            "|\n",
            "}\n",
            "~\n"
          ]
        }
      ],
      "source": [
        "for char in exclude:\n",
        "    print(char)"
      ]
    },
    {
      "cell_type": "code",
      "execution_count": null,
      "metadata": {
        "id": "dXpdJXS_-StO"
      },
      "outputs": [],
      "source": [
        "def remove_punc(text):\n",
        "    for char in exclude:\n",
        "        text=text.replace(char,\"\")\n",
        "    return text"
      ]
    },
    {
      "cell_type": "code",
      "execution_count": null,
      "metadata": {
        "id": "kcmi5c1o-StP"
      },
      "outputs": [],
      "source": [
        "text=\"string @ *() with punctuaion.!\""
      ]
    },
    {
      "cell_type": "code",
      "execution_count": null,
      "metadata": {
        "id": "401tcUY0-StP",
        "outputId": "b302f81c-07d2-4e1b-ff7f-081d00bd7dd7"
      },
      "outputs": [
        {
          "data": {
            "text/plain": [
              "'string   with punctuaion'"
            ]
          },
          "execution_count": 28,
          "metadata": {},
          "output_type": "execute_result"
        }
      ],
      "source": [
        "remove_punc(text)"
      ]
    },
    {
      "cell_type": "code",
      "execution_count": null,
      "metadata": {
        "id": "KZiNETaC-StQ"
      },
      "outputs": [],
      "source": [
        "text2=\"my name is s@nny sa##vita!!!!!!!!!\""
      ]
    },
    {
      "cell_type": "code",
      "execution_count": null,
      "metadata": {
        "id": "wmO7yFE7-StR",
        "outputId": "f749a434-3b26-4dfe-db01-49d1249dd761"
      },
      "outputs": [
        {
          "data": {
            "text/plain": [
              "'my name is snny savita'"
            ]
          },
          "execution_count": 30,
          "metadata": {},
          "output_type": "execute_result"
        }
      ],
      "source": [
        "remove_punc(text2)"
      ]
    },
    {
      "cell_type": "code",
      "execution_count": null,
      "metadata": {
        "id": "Q4MqEyVw-StR"
      },
      "outputs": [],
      "source": [
        "def remove_punc1(text):\n",
        "    return text.translate(str.maketrans(\"\",\"\",exclude))"
      ]
    },
    {
      "cell_type": "code",
      "execution_count": null,
      "metadata": {
        "id": "yw7BjoQG-StS",
        "outputId": "7e5dfd01-129f-4d6c-db78-4be4374523c9"
      },
      "outputs": [
        {
          "data": {
            "text/plain": [
              "'string   with punctuaion'"
            ]
          },
          "execution_count": 13,
          "metadata": {},
          "output_type": "execute_result"
        }
      ],
      "source": [
        "remove_punc1(text)"
      ]
    },
    {
      "cell_type": "code",
      "execution_count": null,
      "metadata": {
        "id": "RvcUnT3t-StS"
      },
      "outputs": [],
      "source": [
        "data[\"review\"]=data[\"review\"].apply(remove_punc)"
      ]
    },
    {
      "cell_type": "code",
      "execution_count": null,
      "metadata": {
        "id": "Mvy-Dwxu-StS"
      },
      "outputs": [],
      "source": [
        "text=\"FYI this is not true\"\n",
        "text2=\"LAMO the class was so funny\"\n",
        "text3=\"i want report ASAP\""
      ]
    },
    {
      "cell_type": "code",
      "execution_count": null,
      "metadata": {
        "id": "K6DLRjHj-StX"
      },
      "outputs": [],
      "source": [
        "chat_words={\n",
        "   \" AFAIK\":\"As Far As I Know\",\n",
        "\"AFK\": \"Away From Keyboard\",\n",
        "\"ASAP\":\"As Soon As Possible\",\n",
        "\"BTW\":\"By The Way\",\n",
        "\"B4\":\"Before\",\n",
        "\"LAMO\":\"Laugh My A.. Off\",\n",
        "\"FYI\":\"For your information\"\n",
        "}"
      ]
    },
    {
      "cell_type": "code",
      "execution_count": null,
      "metadata": {
        "id": "Rh0PpqpI-StX",
        "outputId": "7427f8ab-6ad0-4c59-f2a0-1208d35067be"
      },
      "outputs": [
        {
          "data": {
            "text/plain": [
              "'As Soon As Possible'"
            ]
          },
          "execution_count": 41,
          "metadata": {},
          "output_type": "execute_result"
        }
      ],
      "source": [
        "chat_words[\"ASAP\"]"
      ]
    },
    {
      "cell_type": "code",
      "execution_count": null,
      "metadata": {
        "id": "EFJxPYn0-StY"
      },
      "outputs": [],
      "source": [
        "def chat_conversion(text):\n",
        "    new_text=[]\n",
        "    for w in text.split():\n",
        "        if w.upper() in chat_words:\n",
        "            new_text.append(chat_words[w.upper()])\n",
        "        else:\n",
        "            new_text.append(w)\n",
        "    return \" \".join(new_text)"
      ]
    },
    {
      "cell_type": "code",
      "execution_count": null,
      "metadata": {
        "id": "x34_EilY-StY",
        "outputId": "8d0be7ec-5a75-46f2-b9b2-25bc936807b8"
      },
      "outputs": [
        {
          "data": {
            "text/plain": [
              "'FYI this is not true'"
            ]
          },
          "execution_count": 38,
          "metadata": {},
          "output_type": "execute_result"
        }
      ],
      "source": [
        "text"
      ]
    },
    {
      "cell_type": "code",
      "execution_count": null,
      "metadata": {
        "id": "yN9ss5L8-StY",
        "outputId": "1b3c0d13-86ff-4438-fc1d-18f3f8711b6e"
      },
      "outputs": [
        {
          "data": {
            "text/plain": [
              "['FYI', 'this', 'is', 'not', 'true']"
            ]
          },
          "execution_count": 39,
          "metadata": {},
          "output_type": "execute_result"
        }
      ],
      "source": [
        "text.split()"
      ]
    },
    {
      "cell_type": "code",
      "execution_count": null,
      "metadata": {
        "id": "2ohcwLzK-StY",
        "outputId": "1f71cb10-2898-4871-ea9f-f559948f89ef"
      },
      "outputs": [
        {
          "name": "stdout",
          "output_type": "stream",
          "text": [
            "As Soon As Possible\n"
          ]
        }
      ],
      "source": [
        " for w in text3.split():\n",
        "        if w.upper() in chat_words:\n",
        "            print(chat_words[w.upper()])"
      ]
    },
    {
      "cell_type": "code",
      "execution_count": null,
      "metadata": {
        "id": "JCDIqAxt-StY",
        "outputId": "191ca8ac-8337-4dd3-f592-26e14a155aac"
      },
      "outputs": [
        {
          "data": {
            "text/plain": [
              "'As Soon As Possible this is not true'"
            ]
          },
          "execution_count": 49,
          "metadata": {},
          "output_type": "execute_result"
        }
      ],
      "source": [
        "\" \".join([\"As Soon As Possible\", 'this', 'is', 'not', 'true'])"
      ]
    },
    {
      "cell_type": "code",
      "execution_count": null,
      "metadata": {
        "id": "eDY2bB_F-StY",
        "outputId": "159628be-8897-4d52-d3ea-fdb42af06a3e"
      },
      "outputs": [
        {
          "data": {
            "text/plain": [
              "'For your information this is not true'"
            ]
          },
          "execution_count": 35,
          "metadata": {},
          "output_type": "execute_result"
        }
      ],
      "source": [
        "chat_conversion(text)"
      ]
    },
    {
      "cell_type": "code",
      "execution_count": null,
      "metadata": {
        "id": "RQIdfQ5q-StY",
        "outputId": "23a580f1-0aff-4a40-c32f-72fbbee68986"
      },
      "outputs": [
        {
          "data": {
            "text/plain": [
              "'Laugh My A.. Off the class was so funny'"
            ]
          },
          "execution_count": 36,
          "metadata": {},
          "output_type": "execute_result"
        }
      ],
      "source": [
        "chat_conversion(text2)"
      ]
    },
    {
      "cell_type": "code",
      "execution_count": null,
      "metadata": {
        "id": "k8cfkcxg-StZ",
        "outputId": "d3e74105-085d-4998-8bd1-3d2f3b97f883"
      },
      "outputs": [
        {
          "data": {
            "text/plain": [
              "'i want report As Soon As Possible'"
            ]
          },
          "execution_count": 37,
          "metadata": {},
          "output_type": "execute_result"
        }
      ],
      "source": [
        "chat_conversion(text3)"
      ]
    },
    {
      "cell_type": "code",
      "execution_count": null,
      "metadata": {
        "id": "IYVL-dDL-StZ"
      },
      "outputs": [],
      "source": [
        "# spell correction"
      ]
    },
    {
      "cell_type": "code",
      "execution_count": null,
      "metadata": {
        "id": "mzzTETj9-StZ"
      },
      "outputs": [],
      "source": [
        "text=\"this is my processing notebook pleae download this ntebook\""
      ]
    },
    {
      "cell_type": "code",
      "execution_count": null,
      "metadata": {
        "id": "RdXKG76B-StZ"
      },
      "outputs": [],
      "source": [
        "textblob\n",
        "spacy\n",
        "nltk"
      ]
    },
    {
      "cell_type": "code",
      "execution_count": null,
      "metadata": {
        "id": "PefnSYwP-StZ"
      },
      "outputs": [],
      "source": [
        "import textblob"
      ]
    },
    {
      "cell_type": "code",
      "execution_count": null,
      "metadata": {
        "id": "8BHUMS_2-Sti"
      },
      "outputs": [],
      "source": [
        "from textblob import TextBlob"
      ]
    },
    {
      "cell_type": "code",
      "execution_count": null,
      "metadata": {
        "id": "76_YuWg5-Sti"
      },
      "outputs": [],
      "source": [
        "txtblob=TextBlob(text)"
      ]
    },
    {
      "cell_type": "code",
      "execution_count": null,
      "metadata": {
        "id": "mfBWXwpx-Stj",
        "outputId": "58916bad-8478-41a1-cb8d-15decbd20d2b"
      },
      "outputs": [
        {
          "data": {
            "text/plain": [
              "'this is my processing notebook please download this notebook'"
            ]
          },
          "execution_count": 57,
          "metadata": {},
          "output_type": "execute_result"
        }
      ],
      "source": [
        "txtblob.correct().string"
      ]
    },
    {
      "cell_type": "code",
      "execution_count": null,
      "metadata": {
        "id": "1Nz7BfrO-Stn"
      },
      "outputs": [],
      "source": [
        "text2=\"here is my nme that is sny savita and he is good mntor\""
      ]
    },
    {
      "cell_type": "code",
      "execution_count": null,
      "metadata": {
        "id": "tvi6LFCG-Sto"
      },
      "outputs": [],
      "source": [
        "txtblob2=TextBlob(text2)"
      ]
    },
    {
      "cell_type": "code",
      "execution_count": null,
      "metadata": {
        "id": "Da6T35EC-Stp",
        "outputId": "cdf068c3-ad4e-41be-d0cb-0a6840c7440b"
      },
      "outputs": [
        {
          "data": {
            "text/plain": [
              "'here is my me that is any cavity and he is good motor'"
            ]
          },
          "execution_count": 60,
          "metadata": {},
          "output_type": "execute_result"
        }
      ],
      "source": [
        "txtblob2.correct().string"
      ]
    },
    {
      "cell_type": "code",
      "execution_count": null,
      "metadata": {
        "id": "98335pvN-Stq"
      },
      "outputs": [],
      "source": [
        "text3=\"I'm brav ad stong prson\""
      ]
    },
    {
      "cell_type": "code",
      "execution_count": null,
      "metadata": {
        "id": "-Mvyazdd-Stq"
      },
      "outputs": [],
      "source": [
        "txtblob3=TextBlob(text3)"
      ]
    },
    {
      "cell_type": "code",
      "execution_count": null,
      "metadata": {
        "id": "_dzvU-nv-Stt",
        "outputId": "b28d5a91-76de-4436-e749-d45611033192"
      },
      "outputs": [
        {
          "data": {
            "text/plain": [
              "\"I'm brave ad strong person\""
            ]
          },
          "execution_count": 63,
          "metadata": {},
          "output_type": "execute_result"
        }
      ],
      "source": [
        "txtblob3.correct().string"
      ]
    },
    {
      "cell_type": "code",
      "execution_count": null,
      "metadata": {
        "id": "YH9tQXxt-Stx"
      },
      "outputs": [],
      "source": [
        "# stop word removing"
      ]
    },
    {
      "cell_type": "code",
      "execution_count": null,
      "metadata": {
        "id": "uQ6aKMcu-Sty"
      },
      "outputs": [],
      "source": [
        "import nltk"
      ]
    },
    {
      "cell_type": "code",
      "execution_count": null,
      "metadata": {
        "id": "Ng0-jS90-Sty"
      },
      "outputs": [],
      "source": [
        "from nltk.corpus import stopwords"
      ]
    },
    {
      "cell_type": "code",
      "execution_count": null,
      "metadata": {
        "id": "_Ms_wIij-St1",
        "outputId": "e6f40a29-a500-436b-f011-16ef26e8e7ba"
      },
      "outputs": [
        {
          "name": "stderr",
          "output_type": "stream",
          "text": [
            "[nltk_data] Downloading package stopwords to /config/nltk_data...\n",
            "[nltk_data]   Unzipping corpora/stopwords.zip.\n"
          ]
        },
        {
          "data": {
            "text/plain": [
              "True"
            ]
          },
          "execution_count": 68,
          "metadata": {},
          "output_type": "execute_result"
        }
      ],
      "source": [
        "nltk.download('stopwords')"
      ]
    },
    {
      "cell_type": "code",
      "execution_count": null,
      "metadata": {
        "id": "fCZmsm55-St2",
        "outputId": "97491262-aeb3-42c5-f015-1329981acdb4"
      },
      "outputs": [
        {
          "data": {
            "text/plain": [
              "['i',\n",
              " 'me',\n",
              " 'my',\n",
              " 'myself',\n",
              " 'we',\n",
              " 'our',\n",
              " 'ours',\n",
              " 'ourselves',\n",
              " 'you',\n",
              " \"you're\",\n",
              " \"you've\",\n",
              " \"you'll\",\n",
              " \"you'd\",\n",
              " 'your',\n",
              " 'yours',\n",
              " 'yourself',\n",
              " 'yourselves',\n",
              " 'he',\n",
              " 'him',\n",
              " 'his',\n",
              " 'himself',\n",
              " 'she',\n",
              " \"she's\",\n",
              " 'her',\n",
              " 'hers',\n",
              " 'herself',\n",
              " 'it',\n",
              " \"it's\",\n",
              " 'its',\n",
              " 'itself',\n",
              " 'they',\n",
              " 'them',\n",
              " 'their',\n",
              " 'theirs',\n",
              " 'themselves',\n",
              " 'what',\n",
              " 'which',\n",
              " 'who',\n",
              " 'whom',\n",
              " 'this',\n",
              " 'that',\n",
              " \"that'll\",\n",
              " 'these',\n",
              " 'those',\n",
              " 'am',\n",
              " 'is',\n",
              " 'are',\n",
              " 'was',\n",
              " 'were',\n",
              " 'be',\n",
              " 'been',\n",
              " 'being',\n",
              " 'have',\n",
              " 'has',\n",
              " 'had',\n",
              " 'having',\n",
              " 'do',\n",
              " 'does',\n",
              " 'did',\n",
              " 'doing',\n",
              " 'a',\n",
              " 'an',\n",
              " 'the',\n",
              " 'and',\n",
              " 'but',\n",
              " 'if',\n",
              " 'or',\n",
              " 'because',\n",
              " 'as',\n",
              " 'until',\n",
              " 'while',\n",
              " 'of',\n",
              " 'at',\n",
              " 'by',\n",
              " 'for',\n",
              " 'with',\n",
              " 'about',\n",
              " 'against',\n",
              " 'between',\n",
              " 'into',\n",
              " 'through',\n",
              " 'during',\n",
              " 'before',\n",
              " 'after',\n",
              " 'above',\n",
              " 'below',\n",
              " 'to',\n",
              " 'from',\n",
              " 'up',\n",
              " 'down',\n",
              " 'in',\n",
              " 'out',\n",
              " 'on',\n",
              " 'off',\n",
              " 'over',\n",
              " 'under',\n",
              " 'again',\n",
              " 'further',\n",
              " 'then',\n",
              " 'once',\n",
              " 'here',\n",
              " 'there',\n",
              " 'when',\n",
              " 'where',\n",
              " 'why',\n",
              " 'how',\n",
              " 'all',\n",
              " 'any',\n",
              " 'both',\n",
              " 'each',\n",
              " 'few',\n",
              " 'more',\n",
              " 'most',\n",
              " 'other',\n",
              " 'some',\n",
              " 'such',\n",
              " 'no',\n",
              " 'nor',\n",
              " 'not',\n",
              " 'only',\n",
              " 'own',\n",
              " 'same',\n",
              " 'so',\n",
              " 'than',\n",
              " 'too',\n",
              " 'very',\n",
              " 's',\n",
              " 't',\n",
              " 'can',\n",
              " 'will',\n",
              " 'just',\n",
              " 'don',\n",
              " \"don't\",\n",
              " 'should',\n",
              " \"should've\",\n",
              " 'now',\n",
              " 'd',\n",
              " 'll',\n",
              " 'm',\n",
              " 'o',\n",
              " 're',\n",
              " 've',\n",
              " 'y',\n",
              " 'ain',\n",
              " 'aren',\n",
              " \"aren't\",\n",
              " 'couldn',\n",
              " \"couldn't\",\n",
              " 'didn',\n",
              " \"didn't\",\n",
              " 'doesn',\n",
              " \"doesn't\",\n",
              " 'hadn',\n",
              " \"hadn't\",\n",
              " 'hasn',\n",
              " \"hasn't\",\n",
              " 'haven',\n",
              " \"haven't\",\n",
              " 'isn',\n",
              " \"isn't\",\n",
              " 'ma',\n",
              " 'mightn',\n",
              " \"mightn't\",\n",
              " 'mustn',\n",
              " \"mustn't\",\n",
              " 'needn',\n",
              " \"needn't\",\n",
              " 'shan',\n",
              " \"shan't\",\n",
              " 'shouldn',\n",
              " \"shouldn't\",\n",
              " 'wasn',\n",
              " \"wasn't\",\n",
              " 'weren',\n",
              " \"weren't\",\n",
              " 'won',\n",
              " \"won't\",\n",
              " 'wouldn',\n",
              " \"wouldn't\"]"
            ]
          },
          "execution_count": 69,
          "metadata": {},
          "output_type": "execute_result"
        }
      ],
      "source": [
        "stopwords.words(\"english\")"
      ]
    },
    {
      "cell_type": "code",
      "execution_count": null,
      "metadata": {
        "id": "O59vBqc7-St3"
      },
      "outputs": [],
      "source": [
        "def remove_stopwords(text):\n",
        "    new_text=[]\n",
        "\n",
        "    for word in text.split():\n",
        "        if word in stopwords.words(\"english\"):\n",
        "            new_text.append(\"\")\n",
        "        else:\n",
        "            new_text.append(word.strip())\n",
        "\n",
        "\n",
        "    return \" \".join(new_text).replace(\"   \",\"\")"
      ]
    },
    {
      "cell_type": "code",
      "execution_count": null,
      "metadata": {
        "id": "8mvl0eyy-St5"
      },
      "outputs": [],
      "source": [
        "text=\"i am sunny and we are learning nlp and here is why nlp are important\""
      ]
    },
    {
      "cell_type": "code",
      "execution_count": null,
      "metadata": {
        "id": "flne9ORO-St5",
        "outputId": "d16b24bd-4ad0-43db-ff5f-a29a41e7a024"
      },
      "outputs": [
        {
          "data": {
            "text/plain": [
              "'  sunny learning nlp  nlp  important'"
            ]
          },
          "execution_count": 99,
          "metadata": {},
          "output_type": "execute_result"
        }
      ],
      "source": [
        "remove_stopwords(text)"
      ]
    },
    {
      "cell_type": "code",
      "execution_count": null,
      "metadata": {
        "id": "QnT3x1E--St6"
      },
      "outputs": [],
      "source": [
        "def remove_stopwords(text):\n",
        "\n",
        "  new_text=[]\n",
        "  for word in text.split():\n",
        "    if word not in Stopword:\n",
        "      new_text.append(word)\n",
        "  return \" \".join(new_text)\n"
      ]
    },
    {
      "cell_type": "code",
      "execution_count": null,
      "metadata": {
        "id": "1EwnBzwJ-St6"
      },
      "outputs": [],
      "source": [
        "# emoji\n",
        "\n",
        "import emoji\n"
      ]
    },
    {
      "cell_type": "code",
      "execution_count": null,
      "metadata": {
        "id": "dPySExit-St6"
      },
      "outputs": [],
      "source": [
        "original_text = \"Hello,😊 how are you today? 🌟\""
      ]
    },
    {
      "cell_type": "code",
      "execution_count": null,
      "metadata": {
        "id": "QVdVDlWD-SuT"
      },
      "outputs": [],
      "source": [
        "def remove_emoji(text):\n",
        "    clean_text=emoji.demojize(text)\n",
        "    return clean_text"
      ]
    },
    {
      "cell_type": "code",
      "execution_count": null,
      "metadata": {
        "id": "DqvUaKfm-SuU",
        "outputId": "b429e223-7bd8-4681-8fbe-ce9cabfed1ff"
      },
      "outputs": [
        {
          "data": {
            "text/plain": [
              "'Hello,:smiling_face_with_smiling_eyes: how are you today? :glowing_star:'"
            ]
          },
          "execution_count": 114,
          "metadata": {},
          "output_type": "execute_result"
        }
      ],
      "source": [
        "remove_emoji(original_text)"
      ]
    },
    {
      "cell_type": "code",
      "execution_count": null,
      "metadata": {
        "id": "2U-MTrnt-SuV",
        "outputId": "62de83a3-a65e-4c12-84c1-82beb9c437a4"
      },
      "outputs": [
        {
          "name": "stdout",
          "output_type": "stream",
          "text": [
            "True\n"
          ]
        }
      ],
      "source": [
        "print(emoji.is_emoji(\"👍\"))"
      ]
    },
    {
      "cell_type": "code",
      "execution_count": null,
      "metadata": {
        "id": "3Eqmk_9r-SuV",
        "outputId": "71de2568-ef25-4c60-e821-45e3a3ef12b3"
      },
      "outputs": [
        {
          "name": "stdout",
          "output_type": "stream",
          "text": [
            "False\n"
          ]
        }
      ],
      "source": [
        "print(emoji.is_emoji(\"thumb up\"))"
      ]
    },
    {
      "cell_type": "code",
      "execution_count": null,
      "metadata": {
        "id": "aDFnaUoZ-SuY"
      },
      "outputs": [],
      "source": [
        "text=\"\"\"Hello, 😃💁😃💁 People\n",
        "•🐻🌻 Animals\n",
        "•🍔🍹 Food\n",
        "•🎷⚽ Activities\n",
        "•🚘🌇 Travel\n",
        "•💡🎉 Objects\n",
        "•💖🔣 Symbols\n",
        "•🎌🏳️‍🌈 Flags\"\"\"\n"
      ]
    },
    {
      "cell_type": "code",
      "execution_count": null,
      "metadata": {
        "id": "1qznl2vf-SuZ"
      },
      "outputs": [],
      "source": [
        "text2=\"🌟 Hello there! 🌈 I hope your day is filled with joy and positivity! 🌞 Just wanted to say that you're awesome! 🚀 Keep shining bright like the stars! ✨ If you need a virtual hug, here's one for you 🤗. Remember, you've got this! 💪 Sending good vibes your way! 🌌🌺🌟\"\n"
      ]
    },
    {
      "cell_type": "code",
      "execution_count": null,
      "metadata": {
        "id": "OAT3Gsqd-SuZ",
        "outputId": "ab9e3d3e-50d6-41bf-dde5-4d0a7470bbbc"
      },
      "outputs": [
        {
          "name": "stdout",
          "output_type": "stream",
          "text": [
            "Hello, :grinning_face_with_big_eyes::person_tipping_hand::grinning_face_with_big_eyes::person_tipping_hand: People\n",
            "•:bear::sunflower: Animals\n",
            "•:hamburger::tropical_drink: Food\n",
            "•:saxophone::soccer_ball: Activities\n",
            "•:oncoming_automobile::sunset: Travel\n",
            "•:light_bulb::party_popper: Objects\n",
            "•:sparkling_heart::input_symbols: Symbols\n",
            "•:crossed_flags::rainbow_flag: Flags\n"
          ]
        }
      ],
      "source": [
        "print(remove_emoji(text))"
      ]
    },
    {
      "cell_type": "code",
      "execution_count": null,
      "metadata": {
        "id": "i_zYRfP0-SuZ",
        "outputId": "40eb40a9-34dd-4cae-93f6-58b64a800eda"
      },
      "outputs": [
        {
          "name": "stdout",
          "output_type": "stream",
          "text": [
            ":glowing_star: Hello there! :rainbow: I hope your day is filled with joy and positivity! :sun_with_face: Just wanted to say that you're awesome! :rocket: Keep shining bright like the stars! :sparkles: If you need a virtual hug, here's one for you :smiling_face_with_open_hands:. Remember, you've got this! :flexed_biceps: Sending good vibes your way! :milky_way::hibiscus::glowing_star:\n"
          ]
        }
      ],
      "source": [
        "print(remove_emoji(text2))"
      ]
    },
    {
      "cell_type": "code",
      "execution_count": null,
      "metadata": {
        "id": "jkPRA2BA-SuZ"
      },
      "outputs": [],
      "source": [
        "text4=\"\"\"\n",
        "🌟 \"Hello there! Hope your day is as bright as the stars!\"\n",
        "🌈 \"Wishing you a colorful and joyful day ahead!\"\n",
        "🌸 \"Sending you virtual flowers to brighten your day!\"\n",
        "🎉 \"Celebrate every small victory! You deserve it!\"\n",
        "🤗 \"Virtual hug coming your way! You're not alone.\"\n",
        "🌞 \"Rise and shine! Make today amazing!\"\n",
        "🍀 \"Good luck on your endeavors! You've got this!\"\n",
        "🎈 \"Life is a party! Enjoy every moment!\"\n",
        "📚 \"Study hard and ace those exams! You're brilliant!\"\n",
        "🚀 \"Soar high and reach for the stars in all you do!\"\n",
        "\n",
        "\"\"\"\n"
      ]
    },
    {
      "cell_type": "code",
      "execution_count": null,
      "metadata": {
        "id": "7y9eKMFI-Sua",
        "outputId": "ace4f6df-9e37-4fdf-f821-935ac9ab04e4"
      },
      "outputs": [
        {
          "name": "stdout",
          "output_type": "stream",
          "text": [
            "\n",
            ":glowing_star: \"Hello there! Hope your day is as bright as the stars!\"\n",
            ":rainbow: \"Wishing you a colorful and joyful day ahead!\"\n",
            ":cherry_blossom: \"Sending you virtual flowers to brighten your day!\"\n",
            ":party_popper: \"Celebrate every small victory! You deserve it!\"\n",
            ":smiling_face_with_open_hands: \"Virtual hug coming your way! You're not alone.\"\n",
            ":sun_with_face: \"Rise and shine! Make today amazing!\"\n",
            ":four_leaf_clover: \"Good luck on your endeavors! You've got this!\"\n",
            ":balloon: \"Life is a party! Enjoy every moment!\"\n",
            ":books: \"Study hard and ace those exams! You're brilliant!\"\n",
            ":rocket: \"Soar high and reach for the stars in all you do!\"\n",
            "\n",
            "\n"
          ]
        }
      ],
      "source": [
        "print(remove_emoji(text4))"
      ]
    },
    {
      "cell_type": "code",
      "execution_count": null,
      "metadata": {
        "id": "2bZ6wCQw-Sua"
      },
      "outputs": [],
      "source": [
        "import re\n",
        "def remove_emojis_manually(text):\n",
        "    emoji_pattern = re.compile(\"[\"\n",
        "                               u\"\\U0001F600-\\U0001F64F\"  # emoticons\n",
        "                               u\"\\U0001F300-\\U0001F5FF\"  # symbols & pictographs\n",
        "                               u\"\\U0001F680-\\U0001F6FF\"  # transport & map symbols\n",
        "                               u\"\\U0001F700-\\U0001F77F\"  # alchemical symbols\n",
        "                               u\"\\U0001F780-\\U0001F7FF\"  # Geometric Shapes Extended\n",
        "                               u\"\\U0001F800-\\U0001F8FF\"  # Supplemental Arrows-C\n",
        "                               u\"\\U0001F900-\\U0001F9FF\"  # Supplemental Symbols and Pictographs\n",
        "                               u\"\\U0001FA00-\\U0001FA6F\"  # Chess Symbols\n",
        "                               u\"\\U0001FA70-\\U0001FAFF\"  # Symbols and Pictographs Extended-A\n",
        "                               u\"\\U00002702-\\U000027B0\"  # Dingbats\n",
        "                               u\"\\U000024C2-\\U0001F251\"\n",
        "                               \"]+\", flags=re.UNICODE)\n",
        "    clean_text = emoji_pattern.sub(r'', text)\n",
        "    return clean_text"
      ]
    },
    {
      "cell_type": "code",
      "execution_count": null,
      "metadata": {
        "id": "gw18WfdK-Sua",
        "outputId": "f7bfdebf-7568-489e-d51d-a1bb67ff494a"
      },
      "outputs": [
        {
          "name": "stdout",
          "output_type": "stream",
          "text": [
            "\n",
            " \"Hello there! Hope your day is as bright as the stars!\"\n",
            " \"Wishing you a colorful and joyful day ahead!\"\n",
            " \"Sending you virtual flowers to brighten your day!\"\n",
            " \"Celebrate every small victory! You deserve it!\"\n",
            " \"Virtual hug coming your way! You're not alone.\"\n",
            " \"Rise and shine! Make today amazing!\"\n",
            " \"Good luck on your endeavors! You've got this!\"\n",
            " \"Life is a party! Enjoy every moment!\"\n",
            " \"Study hard and ace those exams! You're brilliant!\"\n",
            " \"Soar high and reach for the stars in all you do!\"\n",
            "\n",
            "\n"
          ]
        }
      ],
      "source": [
        "print(remove_emojis_manually(text4))"
      ]
    },
    {
      "cell_type": "code",
      "execution_count": null,
      "metadata": {
        "id": "h6h6hPGg-Sub",
        "outputId": "bf1fe90b-e57d-41d2-bbaf-2f474239896e"
      },
      "outputs": [
        {
          "name": "stdout",
          "output_type": "stream",
          "text": [
            "Hello, how are you today? \n"
          ]
        }
      ],
      "source": [
        "print(remove_emojis_manually(original_text))"
      ]
    },
    {
      "cell_type": "code",
      "execution_count": null,
      "metadata": {
        "id": "hy0kxm2c-Sub"
      },
      "outputs": [],
      "source": [
        "# tokenization"
      ]
    },
    {
      "cell_type": "code",
      "execution_count": null,
      "metadata": {
        "id": "R0tZWVjH-Suc"
      },
      "outputs": [],
      "source": [
        "# split is a simplest way\n",
        "\n",
        "# but lets say split is not working in that case you can with regular expression"
      ]
    },
    {
      "cell_type": "code",
      "execution_count": null,
      "metadata": {
        "id": "2oXQIwyQ-Suc"
      },
      "outputs": [],
      "source": [
        "text=\"i am sunny savita ana working as a data scientist\""
      ]
    },
    {
      "cell_type": "code",
      "execution_count": null,
      "metadata": {
        "id": "HhDiORb8-Sum",
        "outputId": "a237a342-7348-4d63-d9d1-80b25e6ae2c0"
      },
      "outputs": [
        {
          "data": {
            "text/plain": [
              "['i',\n",
              " 'am',\n",
              " 'sunny',\n",
              " 'savita',\n",
              " 'ana',\n",
              " 'working',\n",
              " 'as',\n",
              " 'a',\n",
              " 'data',\n",
              " 'scientist']"
            ]
          },
          "execution_count": 133,
          "metadata": {},
          "output_type": "execute_result"
        }
      ],
      "source": [
        "text.split()"
      ]
    },
    {
      "cell_type": "code",
      "execution_count": null,
      "metadata": {
        "id": "kIAyKFtD-Sum"
      },
      "outputs": [],
      "source": [
        "text=\"i am sunny savita ana working as a data scientist. i live in banglore. i work in ineuron ai devlopment team\""
      ]
    },
    {
      "cell_type": "code",
      "execution_count": null,
      "metadata": {
        "id": "g4LTNGUJ-Sum",
        "outputId": "919354c9-5f3c-4d91-b40c-25200ef65dd8"
      },
      "outputs": [
        {
          "data": {
            "text/plain": [
              "['i am sunny savita ana working as a data scientist',\n",
              " ' i live in banglore',\n",
              " ' i work in ineuron ai devlopment team']"
            ]
          },
          "execution_count": 135,
          "metadata": {},
          "output_type": "execute_result"
        }
      ],
      "source": [
        "text.split(\".\")"
      ]
    },
    {
      "cell_type": "code",
      "execution_count": null,
      "metadata": {
        "id": "332u7ZRJ-Sun"
      },
      "outputs": [],
      "source": [
        "text3=\"i live in bangalore!!\""
      ]
    },
    {
      "cell_type": "code",
      "execution_count": null,
      "metadata": {
        "id": "maCckGy_-Sun",
        "outputId": "7eec7c33-46fd-4547-836a-bc9b5ec51107"
      },
      "outputs": [
        {
          "data": {
            "text/plain": [
              "['i', 'live', 'in', 'bangalore!!']"
            ]
          },
          "execution_count": 137,
          "metadata": {},
          "output_type": "execute_result"
        }
      ],
      "source": [
        "text3.split()"
      ]
    },
    {
      "cell_type": "code",
      "execution_count": null,
      "metadata": {
        "id": "H5okQF2t-Sun"
      },
      "outputs": [],
      "source": [
        "text4=\"where should i go? i habve 3 days hoilidays, Can you sugguest me?\""
      ]
    },
    {
      "cell_type": "code",
      "execution_count": null,
      "metadata": {
        "id": "qa4Ps55Q-Sun",
        "outputId": "784803f0-3b41-4078-d6b6-5c3c22e08486"
      },
      "outputs": [
        {
          "data": {
            "text/plain": [
              "['where should i go? i habve 3 days hoilidays, Can you sugguest me?']"
            ]
          },
          "execution_count": 140,
          "metadata": {},
          "output_type": "execute_result"
        }
      ],
      "source": [
        "text4.split(\".\")"
      ]
    },
    {
      "cell_type": "code",
      "execution_count": null,
      "metadata": {
        "id": "xyyQ9Rz--Suo"
      },
      "outputs": [],
      "source": [
        "import re\n",
        "text3=\"i live in bangalore!!\""
      ]
    },
    {
      "cell_type": "code",
      "execution_count": null,
      "metadata": {
        "id": "y-jvfvu2-Suo",
        "outputId": "3699c9b3-0451-4c66-b25e-da48e4389224"
      },
      "outputs": [
        {
          "data": {
            "text/plain": [
              "['i', 'live', 'in', 'bangalore']"
            ]
          },
          "execution_count": 143,
          "metadata": {},
          "output_type": "execute_result"
        }
      ],
      "source": [
        "re.findall(\"[\\w]+\",text3)"
      ]
    },
    {
      "cell_type": "code",
      "execution_count": null,
      "metadata": {
        "id": "GJbKifDe-Suo"
      },
      "outputs": [],
      "source": [
        "import nltk"
      ]
    },
    {
      "cell_type": "code",
      "execution_count": null,
      "metadata": {
        "id": "-pzFjexA-Suo"
      },
      "outputs": [],
      "source": [
        "from nltk.tokenize import word_tokenize,sent_tokenize"
      ]
    },
    {
      "cell_type": "code",
      "execution_count": null,
      "metadata": {
        "id": "NL2RwaBc-Suo"
      },
      "outputs": [],
      "source": [
        "my_text=\"i am going to visit delhi tomorrow evening\""
      ]
    },
    {
      "cell_type": "code",
      "execution_count": null,
      "metadata": {
        "id": "Dc_TV_Fy-Suo",
        "outputId": "d74ee6e0-545a-4c28-d7a7-d3e4b4105e4f"
      },
      "outputs": [
        {
          "name": "stderr",
          "output_type": "stream",
          "text": [
            "[nltk_data] Downloading package punkt to /config/nltk_data...\n",
            "[nltk_data]   Unzipping tokenizers/punkt.zip.\n"
          ]
        },
        {
          "data": {
            "text/plain": [
              "True"
            ]
          },
          "execution_count": 148,
          "metadata": {},
          "output_type": "execute_result"
        }
      ],
      "source": [
        "nltk.download(\"punkt\")"
      ]
    },
    {
      "cell_type": "code",
      "execution_count": null,
      "metadata": {
        "id": "g6gsRtqY-Suo",
        "outputId": "74b01c22-1549-4871-b56b-1165ebb74bcc"
      },
      "outputs": [
        {
          "data": {
            "text/plain": [
              "['i', 'am', 'going', 'to', 'visit', 'delhi', 'tomorrow', 'evening']"
            ]
          },
          "execution_count": 149,
          "metadata": {},
          "output_type": "execute_result"
        }
      ],
      "source": [
        "word_tokenize(my_text)"
      ]
    },
    {
      "cell_type": "code",
      "execution_count": null,
      "metadata": {
        "id": "TGCK6wWY-Sup"
      },
      "outputs": [],
      "source": [
        "my_text=\"i am going to visit delhi tomorrow evening!!!!\""
      ]
    },
    {
      "cell_type": "code",
      "execution_count": null,
      "metadata": {
        "id": "KFM5XMZD-Sup",
        "outputId": "1fd5b287-5877-4640-e276-2c0d07a1a500"
      },
      "outputs": [
        {
          "data": {
            "text/plain": [
              "['i',\n",
              " 'am',\n",
              " 'going',\n",
              " 'to',\n",
              " 'visit',\n",
              " 'delhi',\n",
              " 'tomorrow',\n",
              " 'evening',\n",
              " '!',\n",
              " '!',\n",
              " '!',\n",
              " '!']"
            ]
          },
          "execution_count": 151,
          "metadata": {},
          "output_type": "execute_result"
        }
      ],
      "source": [
        "word_tokenize(my_text)"
      ]
    },
    {
      "cell_type": "code",
      "execution_count": null,
      "metadata": {
        "id": "FVEWVEGF-Sup"
      },
      "outputs": [],
      "source": [
        "my_corpus=\"\"\"Generative artificial intelligence (generative AI, genAI, GenAI, GAI or GenAI[1]) is artificial intelligence capable of generating text, images or other data using generative models,[2] often in response to prompts.[3][4] Generative AI models learn the patterns and structure of their input training data and then generate new data that has similar characteristics.[5][6]\n",
        "\n",
        "Improvements in transformer-based deep neural networks enabled an AI boom of generative AI systems in the early 2020s. These include large language model (LLM) chatbots such as ChatGPT, Copilot, Bard, and LLaMA, and text-to-image artificial intelligence art systems such as Stable Diffusion, Midjourney, and DALL-E.[7][8][9] Companies such as OpenAI, Anthropic, Microsoft, Google, and Baidu as well as numerous smaller firms have developed generative AI models.[3][10][11]\"\"\""
      ]
    },
    {
      "cell_type": "code",
      "execution_count": null,
      "metadata": {
        "id": "TTpKElzP-Sup",
        "outputId": "2efa0d22-00ea-40e3-f281-8df49a393ff5"
      },
      "outputs": [
        {
          "data": {
            "text/plain": [
              "'Generative artificial intelligence (generative AI, genAI, GenAI, GAI or GenAI[1]) is artificial intelligence capable of generating text, images or other data using generative models,[2] often in response to prompts.[3][4] Generative AI models learn the patterns and structure of their input training data and then generate new data that has similar characteristics.[5][6]\\n\\nImprovements in transformer-based deep neural networks enabled an AI boom of generative AI systems in the early 2020s. These include large language model (LLM) chatbots such as ChatGPT, Copilot, Bard, and LLaMA, and text-to-image artificial intelligence art systems such as Stable Diffusion, Midjourney, and DALL-E.[7][8][9] Companies such as OpenAI, Anthropic, Microsoft, Google, and Baidu as well as numerous smaller firms have developed generative AI models.[3][10][11]'"
            ]
          },
          "execution_count": 153,
          "metadata": {},
          "output_type": "execute_result"
        }
      ],
      "source": [
        "my_corpus"
      ]
    },
    {
      "cell_type": "code",
      "execution_count": null,
      "metadata": {
        "id": "We8wd6Nm-Sup",
        "outputId": "6c8510a1-1569-49f7-eb74-5da0312b0542"
      },
      "outputs": [
        {
          "data": {
            "text/plain": [
              "['Generative artificial intelligence (generative AI, genAI, GenAI, GAI or GenAI[1]) is artificial intelligence capable of generating text, images or other data using generative models,[2] often in response to prompts.',\n",
              " '[3][4] Generative AI models learn the patterns and structure of their input training data and then generate new data that has similar characteristics.',\n",
              " '[5][6]\\n\\nImprovements in transformer-based deep neural networks enabled an AI boom of generative AI systems in the early 2020s.',\n",
              " 'These include large language model (LLM) chatbots such as ChatGPT, Copilot, Bard, and LLaMA, and text-to-image artificial intelligence art systems such as Stable Diffusion, Midjourney, and DALL-E.[7][8][9] Companies such as OpenAI, Anthropic, Microsoft, Google, and Baidu as well as numerous smaller firms have developed generative AI models.',\n",
              " '[3][10][11]']"
            ]
          },
          "execution_count": 154,
          "metadata": {},
          "output_type": "execute_result"
        }
      ],
      "source": [
        "sent_tokenize(my_corpus)"
      ]
    },
    {
      "cell_type": "code",
      "execution_count": null,
      "metadata": {
        "id": "m4SHh7ET-Sup"
      },
      "outputs": [],
      "source": [
        "# we can do it by using nltk and even with spacy\n",
        "\n",
        "# split\n",
        "# regular expression(simple google)\n",
        "# nltk"
      ]
    },
    {
      "cell_type": "code",
      "execution_count": null,
      "metadata": {
        "id": "NY5U7N-2-Suq"
      },
      "outputs": [],
      "source": [
        "import spacy\n",
        "\n",
        "# Load the English NLP model from spacy\n",
        "nlp = spacy.load(\"en_core_web_sm\")"
      ]
    },
    {
      "cell_type": "code",
      "execution_count": null,
      "metadata": {
        "id": "7AfmUO9l-Suq"
      },
      "outputs": [],
      "source": [
        "def tokenize_text(text):\n",
        "    # Process the text with the spacy model\n",
        "    doc = nlp(text)\n",
        "\n",
        "    # Extract tokens from the processed document\n",
        "    tokens = [token.text for token in doc]\n",
        "\n",
        "    return tokens"
      ]
    },
    {
      "cell_type": "code",
      "execution_count": null,
      "metadata": {
        "id": "uuWHK9ng-Suq"
      },
      "outputs": [],
      "source": [
        "tokens=tokenize_text(my_corpus)"
      ]
    },
    {
      "cell_type": "code",
      "execution_count": null,
      "metadata": {
        "id": "tledz05H-Suq",
        "outputId": "f1d251d3-ecf3-4c14-b13b-20a7b4376c40"
      },
      "outputs": [
        {
          "name": "stdout",
          "output_type": "stream",
          "text": [
            "Generative\n",
            "artificial\n",
            "intelligence\n",
            "(\n",
            "generative\n",
            "AI\n",
            ",\n",
            "genAI\n",
            ",\n",
            "GenAI\n",
            ",\n",
            "GAI\n",
            "or\n",
            "GenAI[1\n",
            "]\n",
            ")\n",
            "is\n",
            "artificial\n",
            "intelligence\n",
            "capable\n",
            "of\n",
            "generating\n",
            "text\n",
            ",\n",
            "images\n",
            "or\n",
            "other\n",
            "data\n",
            "using\n",
            "generative\n",
            "models,[2\n",
            "]\n",
            "often\n",
            "in\n",
            "response\n",
            "to\n",
            "prompts.[3][4\n",
            "]\n",
            "Generative\n",
            "AI\n",
            "models\n",
            "learn\n",
            "the\n",
            "patterns\n",
            "and\n",
            "structure\n",
            "of\n",
            "their\n",
            "input\n",
            "training\n",
            "data\n",
            "and\n",
            "then\n",
            "generate\n",
            "new\n",
            "data\n",
            "that\n",
            "has\n",
            "similar\n",
            "characteristics.[5][6\n",
            "]\n",
            "\n",
            "\n",
            "\n",
            "Improvements\n",
            "in\n",
            "transformer\n",
            "-\n",
            "based\n",
            "deep\n",
            "neural\n",
            "networks\n",
            "enabled\n",
            "an\n",
            "AI\n",
            "boom\n",
            "of\n",
            "generative\n",
            "AI\n",
            "systems\n",
            "in\n",
            "the\n",
            "early\n",
            "2020s\n",
            ".\n",
            "These\n",
            "include\n",
            "large\n",
            "language\n",
            "model\n",
            "(\n",
            "LLM\n",
            ")\n",
            "chatbots\n",
            "such\n",
            "as\n",
            "ChatGPT\n",
            ",\n",
            "Copilot\n",
            ",\n",
            "Bard\n",
            ",\n",
            "and\n",
            "LLaMA\n",
            ",\n",
            "and\n",
            "text\n",
            "-\n",
            "to\n",
            "-\n",
            "image\n",
            "artificial\n",
            "intelligence\n",
            "art\n",
            "systems\n",
            "such\n",
            "as\n",
            "Stable\n",
            "Diffusion\n",
            ",\n",
            "Midjourney\n",
            ",\n",
            "and\n",
            "DALL\n",
            "-\n",
            "E.[7][8][9\n",
            "]\n",
            "Companies\n",
            "such\n",
            "as\n",
            "OpenAI\n",
            ",\n",
            "Anthropic\n",
            ",\n",
            "Microsoft\n",
            ",\n",
            "Google\n",
            ",\n",
            "and\n",
            "Baidu\n",
            "as\n",
            "well\n",
            "as\n",
            "numerous\n",
            "smaller\n",
            "firms\n",
            "have\n",
            "developed\n",
            "generative\n",
            "AI\n",
            "models.[3][10][11\n",
            "]\n"
          ]
        }
      ],
      "source": [
        "for word in tokens:\n",
        "    print(word)"
      ]
    },
    {
      "cell_type": "code",
      "execution_count": null,
      "metadata": {
        "id": "klhtTqo_-Sur"
      },
      "outputs": [],
      "source": []
    },
    {
      "cell_type": "code",
      "execution_count": null,
      "metadata": {
        "id": "0Grarx5Y-Sur"
      },
      "outputs": [],
      "source": [
        "\n",
        "\n",
        "\n",
        "\n",
        "# Example usage:\n",
        "text = \"Spacy is a powerful natural language processing library.\"\n",
        "tokens = tokenize_text(text)\n",
        "\n",
        "print(f\"Original text: {text}\")\n",
        "print(f\"Tokens: {tokens}\")\n"
      ]
    },
    {
      "cell_type": "code",
      "execution_count": null,
      "metadata": {
        "id": "5_JTP-HI-Sur"
      },
      "outputs": [],
      "source": [
        "# stemming and lemmetization"
      ]
    },
    {
      "cell_type": "code",
      "execution_count": null,
      "metadata": {
        "id": "FNjWUyQK-Sur"
      },
      "outputs": [],
      "source": [
        "from nltk.stem import PorterStemmer\n",
        "\n",
        "def stemming(text):\n",
        "    obj=PorterStemmer()\n",
        "\n",
        "    stem_word=[obj.stem(word) for word in text.split()]\n",
        "\n",
        "    return stem_word"
      ]
    },
    {
      "cell_type": "code",
      "execution_count": null,
      "metadata": {
        "id": "k4cN9SfZ-Sus"
      },
      "outputs": [],
      "source": [
        "input_sentence = \"The quick brown foxes are jumping over the lazy dogs\""
      ]
    },
    {
      "cell_type": "code",
      "execution_count": null,
      "metadata": {
        "id": "rEmLPdGv-Sus",
        "outputId": "73f51a23-0fe1-4d83-adb8-9b4231310764"
      },
      "outputs": [
        {
          "data": {
            "text/plain": [
              "\"'Ikigai' by Hector Garcia and Francesc Miralles explores the Japanese concept of finding one's purpose in life by analyzing the habits and beliefs of the world's longest-living people. Through case studies, the book offers practical insights on how to live a more fulfilling life.\""
            ]
          },
          "execution_count": 184,
          "metadata": {},
          "output_type": "execute_result"
        }
      ],
      "source": [
        "text"
      ]
    },
    {
      "cell_type": "code",
      "execution_count": null,
      "metadata": {
        "id": "Y8Nhtf6O-Sus",
        "outputId": "59087409-d584-4222-9017-316ae4480a8b"
      },
      "outputs": [
        {
          "data": {
            "text/plain": [
              "[\"'ikigai'\",\n",
              " 'by',\n",
              " 'hector',\n",
              " 'garcia',\n",
              " 'and',\n",
              " 'francesc',\n",
              " 'miral',\n",
              " 'explor',\n",
              " 'the',\n",
              " 'japanes',\n",
              " 'concept',\n",
              " 'of',\n",
              " 'find',\n",
              " \"one'\",\n",
              " 'purpos',\n",
              " 'in',\n",
              " 'life',\n",
              " 'by',\n",
              " 'analyz',\n",
              " 'the',\n",
              " 'habit',\n",
              " 'and',\n",
              " 'belief',\n",
              " 'of',\n",
              " 'the',\n",
              " \"world'\",\n",
              " 'longest-liv',\n",
              " 'people.',\n",
              " 'through',\n",
              " 'case',\n",
              " 'studies,',\n",
              " 'the',\n",
              " 'book',\n",
              " 'offer',\n",
              " 'practic',\n",
              " 'insight',\n",
              " 'on',\n",
              " 'how',\n",
              " 'to',\n",
              " 'live',\n",
              " 'a',\n",
              " 'more',\n",
              " 'fulfil',\n",
              " 'life.']"
            ]
          },
          "execution_count": 183,
          "metadata": {},
          "output_type": "execute_result"
        }
      ],
      "source": [
        "stemming(text)"
      ]
    },
    {
      "cell_type": "code",
      "execution_count": null,
      "metadata": {
        "id": "A6SAuEPo-Sus",
        "outputId": "ad1afcaf-0a3e-41b7-9a62-9783f78c08dd"
      },
      "outputs": [
        {
          "name": "stderr",
          "output_type": "stream",
          "text": [
            "[nltk_data] Downloading package wordnet to /config/nltk_data...\n"
          ]
        },
        {
          "data": {
            "text/plain": [
              "True"
            ]
          },
          "execution_count": 177,
          "metadata": {},
          "output_type": "execute_result"
        }
      ],
      "source": [
        "nltk.download('wordnet')"
      ]
    },
    {
      "cell_type": "code",
      "execution_count": null,
      "metadata": {
        "id": "tDptOGX8-Sus"
      },
      "outputs": [],
      "source": [
        "from nltk.stem import WordNetLemmatizer\n",
        "\n",
        "def lammatization(text):\n",
        "    words=text.split()\n",
        "\n",
        "    lemmetizer=WordNetLemmatizer()\n",
        "\n",
        "    lemetized_word=[lemmetizer.lemmatize(word) for word in words]\n",
        "\n",
        "    return lemetized_word"
      ]
    },
    {
      "cell_type": "code",
      "execution_count": null,
      "metadata": {
        "id": "kizPwh97-Sus"
      },
      "outputs": [],
      "source": [
        "text=\"'Ikigai' by Hector Garcia and Francesc Miralles explores the Japanese concept of finding one's purpose in life by analyzing the habits and beliefs of the world's longest-living people. Through case studies, the book offers practical insights on how to live a more fulfilling life.\""
      ]
    },
    {
      "cell_type": "code",
      "execution_count": null,
      "metadata": {
        "id": "gAQGVrgq-Sut",
        "outputId": "cbbf6ba4-f357-458c-9a13-3311f38c9718"
      },
      "outputs": [
        {
          "data": {
            "text/plain": [
              "[\"'Ikigai'\",\n",
              " 'by',\n",
              " 'Hector',\n",
              " 'Garcia',\n",
              " 'and',\n",
              " 'Francesc',\n",
              " 'Miralles',\n",
              " 'explores',\n",
              " 'the',\n",
              " 'Japanese',\n",
              " 'concept',\n",
              " 'of',\n",
              " 'finding',\n",
              " \"one's\",\n",
              " 'purpose',\n",
              " 'in',\n",
              " 'life',\n",
              " 'by',\n",
              " 'analyzing',\n",
              " 'the',\n",
              " 'habit',\n",
              " 'and',\n",
              " 'belief',\n",
              " 'of',\n",
              " 'the',\n",
              " \"world's\",\n",
              " 'longest-living',\n",
              " 'people.',\n",
              " 'Through',\n",
              " 'case',\n",
              " 'studies,',\n",
              " 'the',\n",
              " 'book',\n",
              " 'offer',\n",
              " 'practical',\n",
              " 'insight',\n",
              " 'on',\n",
              " 'how',\n",
              " 'to',\n",
              " 'live',\n",
              " 'a',\n",
              " 'more',\n",
              " 'fulfilling',\n",
              " 'life.']"
            ]
          },
          "execution_count": 182,
          "metadata": {},
          "output_type": "execute_result"
        }
      ],
      "source": [
        "lammatization(text)"
      ]
    },
    {
      "cell_type": "code",
      "execution_count": null,
      "metadata": {
        "id": "09ulq9wD-Suz"
      },
      "outputs": [],
      "source": [
        "take a different senerio and work accoring to that\n",
        "\n"
      ]
    },
    {
      "cell_type": "code",
      "execution_count": null,
      "metadata": {
        "id": "Wi196lNp-Su0",
        "outputId": "a60023f9-1419-441b-8a9a-fca8287fed71"
      },
      "outputs": [
        {
          "ename": "NameError",
          "evalue": "name 'tokenization' is not defined",
          "output_type": "error",
          "traceback": [
            "\u001b[0;31m---------------------------------------------------------------------------\u001b[0m",
            "\u001b[0;31mNameError\u001b[0m                                 Traceback (most recent call last)",
            "Cell \u001b[0;32mIn[187], line 1\u001b[0m\n\u001b[0;32m----> 1\u001b[0m \u001b[43mtokenization\u001b[49m\n\u001b[1;32m      2\u001b[0m lowercase\n\u001b[1;32m      3\u001b[0m uppercase\n",
            "\u001b[0;31mNameError\u001b[0m: name 'tokenization' is not defined"
          ]
        }
      ],
      "source": [
        "tokenization\n",
        "lowercase\n",
        "uppercase\n",
        "emojis\n",
        "pancuations\n",
        "html,url\n",
        "stopwords\n",
        "abbravation or slang\n",
        "steemming and lemmetization\n",
        "spelling correction\n",
        "whitspace\n",
        "\n",
        "did you get the idea how the clean the text:\n",
        "\n",
        "by next friday till 5 oclock\n",
        "\n",
        "\n",
        "\n"
      ]
    },
    {
      "cell_type": "code",
      "execution_count": null,
      "metadata": {
        "id": "5V0Mse4p-Su2"
      },
      "outputs": [],
      "source": []
    },
    {
      "cell_type": "code",
      "execution_count": null,
      "metadata": {
        "id": "GR7j2PvG-Su2"
      },
      "outputs": [],
      "source": []
    },
    {
      "cell_type": "code",
      "execution_count": null,
      "metadata": {
        "id": "PeS-2Tjt-Su3"
      },
      "outputs": [],
      "source": []
    }
  ],
  "metadata": {
    "kernelspec": {
      "display_name": "Python 3.9.13 ('base')",
      "language": "python",
      "name": "python3"
    },
    "language_info": {
      "codemirror_mode": {
        "name": "ipython",
        "version": 3
      },
      "file_extension": ".py",
      "mimetype": "text/x-python",
      "name": "python",
      "nbconvert_exporter": "python",
      "pygments_lexer": "ipython3",
      "version": "3.9.13"
    },
    "orig_nbformat": 4,
    "vscode": {
      "interpreter": {
        "hash": "ba7d6a92d9c7295bfdcfceb88786d0d9300abf0a1802f116b1f16ab64cdf39a0"
      }
    },
    "colab": {
      "provenance": [],
      "include_colab_link": true
    }
  },
  "nbformat": 4,
  "nbformat_minor": 0
}